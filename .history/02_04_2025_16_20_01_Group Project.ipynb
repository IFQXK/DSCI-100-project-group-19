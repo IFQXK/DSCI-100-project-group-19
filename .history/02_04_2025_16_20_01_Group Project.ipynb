{
 "cells": [
  {
   "cell_type": "markdown",
   "id": "ba115661-aa25-4cfe-947a-52a9a008de19",
   "metadata": {},
   "source": [
    "# **Group 19 Project**  **GIVE BETTER TITLE**"
   ]
  },
  {
   "cell_type": "markdown",
   "id": "19c60c03-c6bd-46a4-94a9-ce40272bd3e3",
   "metadata": {},
   "source": [
    "# **Introduction**"
   ]
  },
  {
   "cell_type": "markdown",
   "id": "1dde11e1-7f0b-4e14-a7a9-f40428a7b9d8",
   "metadata": {},
   "source": [
    "Video games have evolved from simple pastimes into complex environments that offer rich data about user behavior and interaction. This report is grounded in a real-world data science project conducted by a research group in Computer Science at UBC, led by Frank Wood. The team has established a Minecraft server where every action taken by players is recorded. By capturing this data, the researchers aim to unlock insights into how individuals navigate and interact within virtual worlds.\n",
    "\n",
    "The project has multiple objectives, and we will focus on understanding the characteristics and behaviors that most predict a player's likelihood to subscribe to a game-related newsletter. This targeted approach helps ensure that sufficient resources—such as software licenses and server hardware—are available to support the anticipated influx of players. By investigating player behavior through detailed analytics, the study aims to inform future strategies for engagement, recruitment, and resource allocation in online gaming communities. This report will detail the specific methodologies used to analyze the player data, the key findings related to newsletter subscription behavior, and the implications of these findings."
   ]
  },
  {
   "cell_type": "markdown",
   "id": "2324632d-ec29-480e-afc7-6ecbdf81dd07",
   "metadata": {},
   "source": [
    "# **Question**"
   ]
  },
  {
   "cell_type": "markdown",
   "id": "86c34671-a9f5-486c-a444-cbccd4f37c64",
   "metadata": {},
   "source": [
    "Are age and gender predictive of subscription status to a game related newsletter in the player.csv data set?"
   ]
  },
  {
   "cell_type": "markdown",
   "id": "cf162cbb-b209-492c-801e-534bb4c37344",
   "metadata": {},
   "source": [
    "## Data Set Description"
   ]
  },
  {
   "cell_type": "markdown",
   "id": "c598ae1e-1334-4eb5-8db7-1dbd000bb62b",
   "metadata": {},
   "source": [
    "There a two datasets containing information on players on the MineCraft server; \"players.csv\" and \"sessions.csv\". "
   ]
  },
  {
   "cell_type": "markdown",
   "id": "4653ab50-5c84-4f0f-bac6-8ee225567b57",
   "metadata": {},
   "source": [
    "The \"players.csv\" dataset contains observations collected for multiple different variables from people who played on the MineCraft server. The data frame contains 7 variables and 196 rows of data, producing 1372 observations in total. The variables are ordered in the table left to right are:\n",
    "\n",
    "- `Experience`\n",
    "    - This variable describes the level at which each player is at in terms of playing the game.\n",
    "    - This variable is represented by a string value that can be either Amateur, Beginner, Regular, Pro, or Veteran\n",
    "- `Subscribe`\n",
    "    - This variable describes whether or not the player is subscribed to a game-related newsletter.\n",
    "    - This variable is represented by a boolean value (either True or False) \n",
    "- `Hashed Email`\n",
    "    - This variable describes lists each players email in a hashed format. \n",
    "    - This variable is represented by a string  \n",
    "- `Hours Played`\n",
    "    - This variable describeshow many hours each player spent playing the game (in hours). \n",
    "    - This variable is represented by a float value (number with a decimal value)\n",
    "- `Name`\n",
    "    - This variable states the players first name\n",
    "    - This variable is represented by a string  \n",
    "- `Gender`\n",
    "    - This variable describes the gender of each player. \n",
    "    - This variable is represented by a string value that can be either Agender, Female, Male, Non-binary, other, Prefer not to say, or Two-Spirited\n",
    "- `Age`\n",
    "    - This variable describes the age of the players (in years) \n",
    "    - This variable represented by an integer value (whole number) "
   ]
  },
  {
   "cell_type": "markdown",
   "id": "077617fd-b059-43c5-8c7b-46b4364fad8f",
   "metadata": {},
   "source": [
    "**This is the data set that will be used in the analysis.**"
   ]
  },
  {
   "cell_type": "markdown",
   "id": "80f85472-6a26-4996-9086-a2d29f2d97c1",
   "metadata": {},
   "source": [
    "The \"sessions.csv\" data contains observations collected for multiple different variables from people who played on the MineCraft server. The data frame contains 5 variables and 1535 rows of data, producing 7675 observations in total. The variables are ordered in the table from left to right are:\n",
    "\n",
    "- `hashedEmail`\n",
    "    - This variable gives a string of letters and numbers that represent the players email address. \n",
    "    - This variable is represented by a string  \n",
    "- `start_time`\n",
    "    - This variable gives the exact date (DD/MM/YR) and time (24 hour clock) that the player started their session.\n",
    "    -  This variable is represented by a string\n",
    "- `end_time`\n",
    "    - This variable the exact date (DD/MM/YR) and time (24 hour clock) that the player ended their session. \n",
    "    - This variable is represented by a string  \n",
    "- `original_start_time`\n",
    "    - This variable describes the original start time of players  (**IDK HOW TO DESCRIBE IT BETTER**)\n",
    "    - This variable is represented by a float value (number with a decimal value)\n",
    "- `original_end_time`\n",
    "    - This variable describes the original end time of players (**SAME HERE**)\n",
    "    - This variable is represented by a float value (number with a decimal value)\n"
   ]
  },
  {
   "cell_type": "markdown",
   "id": "41a5becc-36c1-4fe2-98db-13202a3004c4",
   "metadata": {},
   "source": [
    "This data set will not be used in the analysis. "
   ]
  },
  {
   "cell_type": "code",
   "execution_count": null,
   "id": "9836aebe-bb1b-4ed1-b5ea-c663dd7dc6a0",
   "metadata": {},
   "outputs": [],
   "source": [
    "library(tidyverse)\n",
    "library(rvest)\n",
    "library(dplyr)"
   ]
  },
  {
   "cell_type": "code",
   "execution_count": null,
   "id": "5e5c361a-0e9d-433e-9256-c5ec59ac166b",
   "metadata": {},
   "outputs": [],
   "source": [
    "# url_sessions <- \"https://raw.githubusercontent.com/IFQXK/DSCI-100-project-group-19/refs/heads/main/sessions.csv\"\n",
    "# sessions_data <- read.csv(url_sessions)\n",
    "# head(sessions_data)\n",
    "\n",
    "url_players <- \"https://raw.githubusercontent.com/IFQXK/DSCI-100-project-group-19/refs/heads/main/players.csv\"\n",
    "players_data <- read.csv(url_players)\n",
    "head(players_data)"
   ]
  },
  {
   "cell_type": "code",
   "execution_count": null,
   "id": "997d3542-aef8-499b-8387-51813eed7fe5",
   "metadata": {},
   "outputs": [],
   "source": [
    "players_data_fixed <- players_data |>\n",
    "    mutate(gender = as.factor(gender)) |>\n",
    "    select(subscribe, gender, Age)\n",
    "head(players_data_fixed)"
   ]
  },
  {
   "cell_type": "markdown",
   "id": "aa2f5017-076d-4565-855c-27dc99c76a4f",
   "metadata": {},
   "source": [
    "This is what the first 6 lines of code looks like without wrangling"
   ]
  },
  {
   "cell_type": "code",
   "execution_count": null,
   "id": "0e9682af-36f8-4cf8-8cae-dc080cac5d81",
   "metadata": {},
   "outputs": [],
   "source": [
    "mean_table <- players_data |>\n",
    "  summarize(\n",
    "   Average_Age = mean(Age, na.rm = TRUE),)\n",
    "\n",
    "mean_table\n",
    "\n",
    "gender_count <- players_data |>\n",
    "        group_by(gender) |>\n",
    "        count()\n",
    "\n",
    "gender_count\n",
    "\n",
    "subscriber_count <- players_data |>\n",
    "        group_by(subscribe) |>\n",
    "        count()\n",
    "\n",
    "subscriber_count"
   ]
  },
  {
   "cell_type": "markdown",
   "id": "ab27829e-0105-48cf-8c2f-4775fbc51b17",
   "metadata": {},
   "source": [
    "## Statistics Summary of Variables used in Specific Question\n",
    "\n",
    "`Age` :\n",
    "- Mean: 20.52\n",
    "- Max: 50\n",
    "- Min: 8\n",
    "  \n",
    "`Gender` :\n",
    "- Agender: 2\n",
    "- Female: 37\n",
    "- Male: 124\n",
    "- Non-binary: 15\n",
    "- Other: 1\n",
    "- Perfer not to say: 11\n",
    "- Two_Spirited: 6\n",
    "\n",
    "`Subscribe` \n",
    "\n",
    "- True: 144\n",
    "- False: 52"
   ]
  },
  {
   "cell_type": "markdown",
   "id": "20e2015c-47da-436a-b7a8-6457d87b0dc4",
   "metadata": {},
   "source": [
    "Above is the summary for each statistic used in the analysis. If an integer value, mean, max, and min were calculated. If the stat was a character value, the count was summarized per category. "
   ]
  },
  {
   "cell_type": "code",
   "execution_count": null,
   "id": "d3a2c399-4c1a-4d62-be3a-6e6291f75c18",
   "metadata": {},
   "outputs": [],
   "source": [
    "# Scatter graph comparing age and experience\n",
    "options(repr.plot.width = 10, repr.plot.height = 4)\n",
    "gender_bar <- players_data_fixed |>\n",
    "            ggplot(aes(x = gender, fill = subscribe)) +\n",
    "            geom_bar(position = \"dodge\") +\n",
    "            labs(x = \"Gender\", title = \"Relationship between gender and subscription status\") + \n",
    "            theme(text = element_text(size = 14))       \n",
    "gender_bar"
   ]
  },
  {
   "cell_type": "code",
   "execution_count": null,
   "id": "d7dd71ab-b1e0-427e-ba07-7bef4f21c73d",
   "metadata": {},
   "outputs": [],
   "source": [
    "age_histogram <- players_data |>\n",
    "            ggplot(aes(x = Age, fill = subscribe)) +\n",
    "            geom_histogram(position = \"dodge\", binwidth = 5) +\n",
    "            labs(x = \"Age (in years)\", title = \"Relationship between age and subscription status\") + \n",
    "            theme(text = element_text(size = 14))       \n",
    "age_histogram"
   ]
  },
  {
   "cell_type": "markdown",
   "id": "ed383660-f834-4dc9-93a0-9ec3dee13ad7",
   "metadata": {},
   "source": [
    "^ creates a visualization of the dataset that is relevant for exploratory data analysis related to the planned analysis. **idk if this counts**\n",
    "\n",
    "-**I think this represents the total age which I dont think is what we want**"
   ]
  },
  {
   "cell_type": "code",
   "execution_count": null,
   "id": "4269a024-ede8-480c-bc8e-66e967076c95",
   "metadata": {},
   "outputs": [],
   "source": [
    "scatter_plot <- players_data |>\n",
    "            ggplot(aes(x = Age, y = gender)) +\n",
    "            geom_point() +\n",
    "            labs(y = \"Gender\", x = \"Age (in years)\", title = \"Relationship between age and experience\") + \n",
    "            theme(text = element_text(size = 14))\n",
    "        \n",
    "\n",
    "scatter_plot"
   ]
  },
  {
   "cell_type": "code",
   "execution_count": null,
   "id": "9d6d1579-1d00-46fa-9718-87383a73e962",
   "metadata": {},
   "outputs": [],
   "source": []
  }
 ],
 "metadata": {
  "kernelspec": {
   "display_name": "R",
   "language": "R",
   "name": "ir"
  },
  "language_info": {
   "codemirror_mode": "r",
   "file_extension": ".r",
   "mimetype": "text/x-r-source",
   "name": "R",
   "pygments_lexer": "r",
   "version": "4.3.3"
  }
 },
 "nbformat": 4,
 "nbformat_minor": 5
}
