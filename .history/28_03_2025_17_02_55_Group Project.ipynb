{
 "cells": [
  {
   "cell_type": "markdown",
   "id": "ba115661-aa25-4cfe-947a-52a9a008de19",
   "metadata": {},
   "source": [
    "# **Group 19 Project**"
   ]
  },
  {
   "cell_type": "markdown",
   "id": "19c60c03-c6bd-46a4-94a9-ce40272bd3e3",
   "metadata": {},
   "source": [
    "# Introduction"
   ]
  },
  {
   "cell_type": "markdown",
   "id": "2324632d-ec29-480e-afc7-6ecbdf81dd07",
   "metadata": {},
   "source": [
    "# **Question**"
   ]
  },
  {
   "cell_type": "markdown",
   "id": "86c34671-a9f5-486c-a444-cbccd4f37c64",
   "metadata": {},
   "source": [
    "Are age and gender predictive of subscription status to a game related newsletter in the player.csv data set?"
   ]
  },
  {
   "cell_type": "markdown",
   "id": "cf162cbb-b209-492c-801e-534bb4c37344",
   "metadata": {},
   "source": [
    "# Data Set Description - Eve"
   ]
  },
  {
   "cell_type": "code",
   "execution_count": null,
   "id": "38decdc6-3c01-45d8-a3d2-700d0e549113",
   "metadata": {},
   "outputs": [],
   "source": []
  },
  {
   "cell_type": "code",
   "execution_count": null,
   "id": "9000eda9-130f-4b73-be85-80beaff1b0ad",
   "metadata": {},
   "outputs": [],
   "source": []
  }
 ],
 "metadata": {
  "kernelspec": {
   "display_name": "R",
   "language": "R",
   "name": "ir"
  },
  "language_info": {
   "codemirror_mode": "r",
   "file_extension": ".r",
   "mimetype": "text/x-r-source",
   "name": "R",
   "pygments_lexer": "r",
   "version": "4.3.3"
  }
 },
 "nbformat": 4,
 "nbformat_minor": 5
}
