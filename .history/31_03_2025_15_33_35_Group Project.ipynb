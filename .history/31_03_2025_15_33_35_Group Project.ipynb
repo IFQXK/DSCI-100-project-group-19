{
 "cells": [
  {
   "cell_type": "markdown",
   "id": "ba115661-aa25-4cfe-947a-52a9a008de19",
   "metadata": {},
   "source": [
    "# **Group 19 Project**  **GIVE BETTER TITLE**"
   ]
  },
  {
   "cell_type": "markdown",
   "id": "19c60c03-c6bd-46a4-94a9-ce40272bd3e3",
   "metadata": {},
   "source": [
    "# **Introduction**"
   ]
  },
  {
   "cell_type": "markdown",
   "id": "1dde11e1-7f0b-4e14-a7a9-f40428a7b9d8",
   "metadata": {},
   "source": [
    "Video games have evolved from simple pastimes into complex environments that offer rich data about user behavior and interaction. This report is grounded in a real-world data science project conducted by a research group in Computer Science at UBC, led by Frank Wood. The team has established a Minecraft server where every action taken by players is recorded. By capturing this data, the researchers aim to unlock insights into how individuals navigate and interact within virtual worlds.\n",
    "\n",
    "The project has multiple objectives, and we will focus on understanding the characteristics and behaviors that most predict a player's likelihood to subscribe to a game-related newsletter. This targeted approach helps ensure that sufficient resources—such as software licenses and server hardware—are available to support the anticipated influx of players. By investigating player behavior through detailed analytics, the study aims to inform future strategies for engagement, recruitment, and resource allocation in online gaming communities. This report will detail the specific methodologies used to analyze the player data, the key findings related to newsletter subscription behavior, and the implications of these findings."
   ]
  },
  {
   "cell_type": "markdown",
   "id": "2324632d-ec29-480e-afc7-6ecbdf81dd07",
   "metadata": {},
   "source": [
    "# **Question**"
   ]
  },
  {
   "cell_type": "markdown",
   "id": "86c34671-a9f5-486c-a444-cbccd4f37c64",
   "metadata": {},
   "source": [
    "Are age and gender predictive of subscription status to a game related newsletter in the player.csv data set?"
   ]
  },
  {
   "cell_type": "markdown",
   "id": "cf162cbb-b209-492c-801e-534bb4c37344",
   "metadata": {},
   "source": [
    "## Data Set Description"
   ]
  },
  {
   "cell_type": "markdown",
   "id": "4653ab50-5c84-4f0f-bac6-8ee225567b57",
   "metadata": {},
   "source": [
    "The \"players.csv\" dataset contains observations collected for multiple different variables from people who played on the MineCraft server. The data frame contains 7 variables and 196 rows of data, producing 1372 observations in total. The variables are ordered in the table left to right are:\n",
    "\n",
    "- `Experience`\n",
    "    - This variable describes the level at which each player is at in terms of playing the game. They are categorized into 5 categories: Amateur, Beginner, Regular, Pro, and Veteran\n",
    "    - In the data set, this variable is a character type \n",
    "- `Subscribe`\n",
    "    - This variable describes whether or not the player is subscribed to a game-related newsletter. They are categorized into 2 categories: True or False\n",
    "    - In the data set, this variable is a logical type \n",
    "- `Hashed Email`\n",
    "    - This variable describes lists each players email in a hashed format. \n",
    "    - In the data set, this variable is a character type \n",
    "- `Hours Played`\n",
    "    - This variable describeshow many hours each player spent playing the game (in hours). \n",
    "    - In the data set, this variable is a double type, so the values can contain decimals \n",
    "- `Name`\n",
    "    - This variable states the players first name\n",
    "    - In the data set, this variable is a character type \n",
    "- `Gender`\n",
    "    - This variable describes the gender of each player. \n",
    "    - In the data set, this variable is a character type\n",
    "- `Age`\n",
    "    - This variable describes the age of the players (in years) \n",
    "    - In the data set, this variable is an integer type, so the values are whole numbers only"
   ]
  },
  {
   "cell_type": "markdown",
   "id": "077617fd-b059-43c5-8c7b-46b4364fad8f",
   "metadata": {},
   "source": [
    "**This is the data set that will be used in the analysis**"
   ]
  },
  {
   "cell_type": "markdown",
   "id": "80f85472-6a26-4996-9086-a2d29f2d97c1",
   "metadata": {},
   "source": [
    "The \"sessions.csv\" data contains observations collected for multiple different variables from people who played on the MineCraft server. The data frame contains 5 variables and 1535 rows of data, producing 7675 observations in total. The variables are ordered in the table from left to right are:\n",
    "\n",
    "- `hashedEmail`\n",
    "    - This variable gives a string of letters and numbers that represent the players email address. \n",
    "    - In the data set, this variable is a character type \n",
    "- `start_time`\n",
    "    - This variable gives the exact date (DD/MM/YR) and time (24 hour clock) that the player started their session.\n",
    "    - In the data set, this variable is a character type \n",
    "- `end_time`\n",
    "    - This variable the exact date (DD/MM/YR) and time (24 hour clock) that the player ended their session. \n",
    "    - In the data set, this variable is a character type \n",
    "- `original_start_time`\n",
    "    - This variable describes the original start time of players  (**IDK HOW TO DESCRIBE IT BETTER**)\n",
    "    - In the data set, this variable is a double type, so the values can contain decimals \n",
    "- `original_end_time`\n",
    "    - This variable describes the original end time of players (**SAME HERE**)\n",
    "    - In the data set, this variable is a double type, so the values can contain decimals \n"
   ]
  },
  {
   "cell_type": "markdown",
   "id": "41a5becc-36c1-4fe2-98db-13202a3004c4",
   "metadata": {},
   "source": [
    "This data will not be used in the analysis"
   ]
  },
  {
   "cell_type": "code",
   "execution_count": null,
   "id": "9836aebe-bb1b-4ed1-b5ea-c663dd7dc6a0",
   "metadata": {},
   "outputs": [],
   "source": [
    "library(tidyverse)\n",
    "library(rvest)\n",
    "library(dplyr)"
   ]
  },
  {
   "cell_type": "code",
   "execution_count": null,
   "id": "5e5c361a-0e9d-433e-9256-c5ec59ac166b",
   "metadata": {},
   "outputs": [],
   "source": [
    "url_sessions <- \"https://raw.githubusercontent.com/IFQXK/DSCI-100-project-group-19/refs/heads/main/sessions.csv\"\n",
    "sessions_data <- read.csv(url_sessions)\n",
    "head(sessions_data)\n",
    "\n",
    "url_players <- \"https://raw.githubusercontent.com/IFQXK/DSCI-100-project-group-19/refs/heads/main/players.csv\"\n",
    "players_data <- read.csv(url_players)\n",
    "head(players_data)"
   ]
  },
  {
   "cell_type": "code",
   "execution_count": null,
   "id": "42699901-0d75-487b-8f3a-f45bd62deb4e",
   "metadata": {},
   "outputs": [],
   "source": []
  }
 ],
 "metadata": {
  "kernelspec": {
   "display_name": "R",
   "language": "R",
   "name": "ir"
  },
  "language_info": {
   "codemirror_mode": "r",
   "file_extension": ".r",
   "mimetype": "text/x-r-source",
   "name": "R",
   "pygments_lexer": "r",
   "version": "4.3.3"
  }
 },
 "nbformat": 4,
 "nbformat_minor": 5
}
