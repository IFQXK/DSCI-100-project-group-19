{
 "cells": [
  {
   "cell_type": "markdown",
   "id": "ba115661-aa25-4cfe-947a-52a9a008de19",
   "metadata": {},
   "source": [
    "# **Group 19 Project**  **GIVE BETTER TITLE**"
   ]
  },
  {
   "cell_type": "markdown",
   "id": "19c60c03-c6bd-46a4-94a9-ce40272bd3e3",
   "metadata": {},
   "source": [
    "# **Introduction**"
   ]
  },
  {
   "cell_type": "markdown",
   "id": "1dde11e1-7f0b-4e14-a7a9-f40428a7b9d8",
   "metadata": {},
   "source": [
    "Video games have evolved from simple pastimes into complex environments that offer rich data about user behavior and interaction. This report is grounded in a real-world data science project conducted by a research group in Computer Science at UBC, led by Frank Wood. The team has established a Minecraft server where every action taken by players is recorded. By capturing this data, the researchers aim to unlock insights into how individuals navigate and interact within virtual worlds.\n",
    "\n",
    "The project has multiple objectives, and we will focus on understanding the characteristics and behaviors that most predict a player's likelihood to subscribe to a game-related newsletter. This targeted approach helps ensure that sufficient resources—such as software licenses and server hardware—are available to support the anticipated influx of players. By investigating player behavior through detailed analytics, the study aims to inform future strategies for engagement, recruitment, and resource allocation in online gaming communities. This report will detail the specific methodologies used to analyze the player data, the key findings related to newsletter subscription behavior, and the implications of these findings."
   ]
  },
  {
   "cell_type": "markdown",
   "id": "2324632d-ec29-480e-afc7-6ecbdf81dd07",
   "metadata": {},
   "source": [
    "# **Question**"
   ]
  },
  {
   "cell_type": "markdown",
   "id": "86c34671-a9f5-486c-a444-cbccd4f37c64",
   "metadata": {},
   "source": [
    "Are age and the number of hours played predictive of subscription status to a game-related newsletter in the player.csv data set?"
   ]
  },
  {
   "cell_type": "markdown",
   "id": "cf162cbb-b209-492c-801e-534bb4c37344",
   "metadata": {},
   "source": [
    "## Data Set Description"
   ]
  },
  {
   "cell_type": "markdown",
   "id": "c598ae1e-1334-4eb5-8db7-1dbd000bb62b",
   "metadata": {},
   "source": [
    "There a two datasets containing information on players on the MineCraft server; \"players.csv\" and \"sessions.csv\". "
   ]
  },
  {
   "cell_type": "markdown",
   "id": "4653ab50-5c84-4f0f-bac6-8ee225567b57",
   "metadata": {},
   "source": [
    "The \"players.csv\" dataset contains observations collected for multiple different variables from people who played on the MineCraft server. The data frame contains 7 variables and 196 rows of data, producing 1372 observations in total. The variables are ordered in the table left to right are:\n",
    "\n",
    "- `Experience`\n",
    "    - This variable describes the level at which each player is at in terms of playing the game.\n",
    "    - This variable is represented by a string value that can be either Amateur, Beginner, Regular, Pro, or Veteran\n",
    "- `Subscribe`\n",
    "    - This variable describes whether or not the player is subscribed to a game-related newsletter.\n",
    "    - This variable is represented by a boolean value (either True or False) \n",
    "- `Hashed Email`\n",
    "    - This variable describes lists each players email in a hashed format. \n",
    "    - This variable is represented by a string  \n",
    "- `Hours Played`\n",
    "    - This variable describeshow many hours each player spent playing the game (in hours). \n",
    "    - This variable is represented by a float value (number with a decimal value)\n",
    "- `Name`\n",
    "    - This variable states the players first name\n",
    "    - This variable is represented by a string  \n",
    "- `Gender`\n",
    "    - This variable describes the gender of each player. \n",
    "    - This variable is represented by a string value that can be either Agender, Female, Male, Non-binary, other, Prefer not to say, or Two-Spirited\n",
    "- `Age`\n",
    "    - This variable describes the age of the players (in years) \n",
    "    - This variable represented by an integer value (whole number) "
   ]
  },
  {
   "cell_type": "markdown",
   "id": "077617fd-b059-43c5-8c7b-46b4364fad8f",
   "metadata": {},
   "source": [
    "**This is the data set that will be used in the analysis.**"
   ]
  },
  {
   "cell_type": "markdown",
   "id": "80f85472-6a26-4996-9086-a2d29f2d97c1",
   "metadata": {},
   "source": [
    "The \"sessions.csv\" data contains observations collected for multiple different variables from people who played on the MineCraft server. The data frame contains 5 variables and 1535 rows of data, producing 7675 observations in total. The variables are ordered in the table from left to right are:\n",
    "\n",
    "- `hashedEmail`\n",
    "    - This variable gives a string of letters and numbers that represent the players email address. \n",
    "    - This variable is represented by a string  \n",
    "- `start_time`\n",
    "    - This variable gives the exact date (DD/MM/YR) and time (24 hour clock) that the player started their session.\n",
    "    -  This variable is represented by a string\n",
    "- `end_time`\n",
    "    - This variable the exact date (DD/MM/YR) and time (24 hour clock) that the player ended their session. \n",
    "    - This variable is represented by a string  \n",
    "- `original_start_time`\n",
    "    - This variable describes the original start time of players \n",
    "    - This variable is represented by a float value (number with a decimal value)\n",
    "- `original_end_time`\n",
    "    - This variable describes the original end time of players\n",
    "    - This variable is represented by a float value (number with a decimal value)\n"
   ]
  },
  {
   "cell_type": "markdown",
   "id": "41a5becc-36c1-4fe2-98db-13202a3004c4",
   "metadata": {},
   "source": [
    "This data set will not be used in the analysis. "
   ]
  },
  {
   "cell_type": "code",
   "execution_count": null,
   "id": "9836aebe-bb1b-4ed1-b5ea-c663dd7dc6a0",
   "metadata": {},
   "outputs": [],
   "source": [
    "library(tidyverse)\n",
    "library(rvest)\n",
    "library(dplyr)\n",
    "library(tidymodels)"
   ]
  },
  {
   "cell_type": "code",
   "execution_count": null,
   "id": "5e5c361a-0e9d-433e-9256-c5ec59ac166b",
   "metadata": {},
   "outputs": [],
   "source": [
    "# url_sessions <- \"https://raw.githubusercontent.com/IFQXK/DSCI-100-project-group-19/refs/heads/main/sessions.csv\"\n",
    "# sessions_data <- read.csv(url_sessions)\n",
    "# head(sessions_data)\n",
    "\n",
    "url_players <- \"https://raw.githubusercontent.com/IFQXK/DSCI-100-project-group-19/refs/heads/main/players.csv\"\n",
    "players_data <- read.csv(url_players)\n",
    "head(players_data)"
   ]
  },
  {
   "cell_type": "markdown",
   "id": "aa2f5017-076d-4565-855c-27dc99c76a4f",
   "metadata": {},
   "source": [
    "This is what the first 6 lines of code looks like without wrangling"
   ]
  },
  {
   "cell_type": "code",
   "execution_count": null,
   "id": "997d3542-aef8-499b-8387-51813eed7fe5",
   "metadata": {},
   "outputs": [],
   "source": [
    "players_data_raw <- players_data |>\n",
    "    mutate(subscribe = as.factor(subscribe)) |>\n",
    "    select(subscribe, played_hours, Age)\n",
    "\n",
    "players_data_fixed <- filter(players_data_raw, is.na = TRUE)\n",
    "\n",
    "head(players_data_fixed)"
   ]
  },
  {
   "cell_type": "markdown",
   "id": "e1fb5af6-b951-4552-bee1-61607438b0e4",
   "metadata": {},
   "source": [
    "Once specific columns from the original data set required for analysis have been selected, the data gets split into a training and testing set so that the model created later generalizes well and provides reliable predictions on new data."
   ]
  },
  {
   "cell_type": "code",
   "execution_count": null,
   "id": "7574ae13-6bb5-482e-8311-6f5e34027d5f",
   "metadata": {},
   "outputs": [],
   "source": [
    "set.seed(1)\n",
    "players_split <- initial_split(players_data_fixed, prop = 0.75, strata = subscribe)\n",
    "players_training <- training(players_split)\n",
    "players_testing <- testing(players_split)"
   ]
  },
  {
   "cell_type": "markdown",
   "id": "443ff696-dda7-4c96-bda6-e470e98923fe",
   "metadata": {},
   "source": [
    "## Statistics Summary of Variables used in Specific Question"
   ]
  },
  {
   "cell_type": "code",
   "execution_count": null,
   "id": "0e9682af-36f8-4cf8-8cae-dc080cac5d81",
   "metadata": {},
   "outputs": [],
   "source": [
    "mean_table <- players_training |>\n",
    "summarize(\n",
    "Average_Age = mean(Age, na.rm = TRUE), Hours_Played = mean(played_hours, na.rm = TRUE))\n",
    "\n",
    "mean_table\n"
   ]
  },
  {
   "cell_type": "markdown",
   "id": "ab27829e-0105-48cf-8c2f-4775fbc51b17",
   "metadata": {},
   "source": [
    "\n",
    "`Age` :\n",
    "\n",
    "Mean: 20.9\n",
    "\n",
    "Max: 50\n",
    "\n",
    "Min: 8\n",
    "\n",
    "\n",
    "`Subscribe`\n",
    "\n",
    "True: 108\n",
    "\n",
    "False: 39\n",
    "\n",
    "`Played_hours` \n",
    "\n",
    "Mean: 4.6\n",
    "\n",
    "Max: 218.1\n",
    "\n",
    "Min: 0.0"
   ]
  },
  {
   "cell_type": "markdown",
   "id": "20e2015c-47da-436a-b7a8-6457d87b0dc4",
   "metadata": {},
   "source": [
    "Above is the summary for each statistic used in the analysis. If an integer value, mean, max, and min were calculated. If the stat was a character value, the count was summarized per category. "
   ]
  },
  {
   "cell_type": "code",
   "execution_count": null,
   "id": "f395a34f-c02f-4257-835b-4994793d7766",
   "metadata": {},
   "outputs": [],
   "source": [
    "options(repr.plot.width = 10, repr.plot.height = 4)\n",
    "gender_bar <- players_training |>\n",
    "            ggplot(aes(x = played_hours, fill = subscribe)) +\n",
    "            geom_histogram(position = \"dodge\", binwidth = 30) +\n",
    "            labs(x = \"Hours Played\", title = \"Graph 1. Relationship between hours played and subscription status\", fill =  \"Subscription Status\") + \n",
    "            theme(text = element_text(size = 14))       \n",
    "gender_bar"
   ]
  },
  {
   "cell_type": "markdown",
   "id": "d4ec61ad-acc5-4bfd-b080-fa95552e27db",
   "metadata": {},
   "source": [
    "A histogram was chosen to represent the data above to see the distribution of hours played across the data set in relation to subscription status. As seen above, most players have low hours and are subscribed. Furthermore, all players who have many hours played are all subscribed. The non-subscribed players appear to all have very low hours played. "
   ]
  },
  {
   "cell_type": "code",
   "execution_count": null,
   "id": "d7dd71ab-b1e0-427e-ba07-7bef4f21c73d",
   "metadata": {},
   "outputs": [],
   "source": [
    "age_histogram <- players_training |>\n",
    "            ggplot(aes(x = Age, fill = subscribe)) +\n",
    "            geom_histogram(position = \"dodge\", binwidth = 5) +\n",
    "            labs(x = \"Age (in years)\", title = \"Graph 2. Relationship between age and subscription status\", fill = \"Subscription Status\") + \n",
    "            theme(text = element_text(size = 14))       \n",
    "age_histogram"
   ]
  },
  {
   "cell_type": "markdown",
   "id": "ed383660-f834-4dc9-93a0-9ec3dee13ad7",
   "metadata": {},
   "source": [
    "A bar plot was used to compare age and subscription to visually compare the two subscription statuses based on age. This allows use to determine and see which ages are more likely to be subscribed. As seen in the graph above, players between the ages of 15 and 28 are more likely to be subscribed. As the ages get older, the ratio of subscribed to unsubscribed is approximately the same."
   ]
  },
  {
   "cell_type": "markdown",
   "id": "af3e2126-f17e-4574-9720-64185e2d0c6c",
   "metadata": {},
   "source": [
    "# **Data Analysis**"
   ]
  },
  {
   "cell_type": "code",
   "execution_count": null,
   "id": "4269a024-ede8-480c-bc8e-66e967076c95",
   "metadata": {},
   "outputs": [],
   "source": [
    "scatter_plot <- players_training |>\n",
    "            ggplot(aes(x = Age, y = played_hours, colour = subscribe)) +\n",
    "            geom_point() +\n",
    "            labs(y = \"Hours Played\", x = \"Age (in years)\", title = \"Graph 3. Relationship between hours played, age and subcription status\") + \n",
    "            theme(text = element_text(size = 14))\n",
    "    \n",
    "scatter_plot"
   ]
  },
  {
   "cell_type": "code",
   "execution_count": null,
   "id": "9d6d1579-1d00-46fa-9718-87383a73e962",
   "metadata": {},
   "outputs": [],
   "source": [
    "players_recipe <- recipe(subscribe ~ Age + played_hours, data = players_training) |>\n",
    "    step_scale(all_predictors()) |>\n",
    "    step_center(all_predictors())\n",
    "\n",
    "players_spec <- nearest_neighbor(weight_func = \"rectangular\", neighbors = 3) |>\n",
    "    set_engine(\"kknn\") |>\n",
    "    set_mode(\"classification\")\n",
    "\n",
    "players_workflow <- workflow() |>\n",
    "    add_recipe(players_recipe) |>\n",
    "    add_model(players_spec) |>\n",
    "    fit(data = players_training)\n",
    "\n",
    "players_workflow"
   ]
  },
  {
   "cell_type": "code",
   "execution_count": null,
   "id": "f6752cc8-1f14-4297-826e-dd6f77ec2715",
   "metadata": {},
   "outputs": [],
   "source": [
    "players_test_prediction <- predict(players_workflow, players_testing) |>\n",
    "    bind_cols(players_testing)\n",
    "\n",
    "players_test_accuracy <- players_test_prediction |>\n",
    "    metrics(truth = subscribe, estimate = .pred_class)\n",
    "players_test_accuracy"
   ]
  },
  {
   "cell_type": "code",
   "execution_count": null,
   "id": "c684f7a7-1240-47c7-8669-f684363ad8c6",
   "metadata": {},
   "outputs": [],
   "source": [
    "players_mat <- players_test_prediction |> \n",
    "      conf_mat(truth = subscribe, estimate = .pred_class)\n",
    "\n",
    "players_mat"
   ]
  },
  {
   "cell_type": "code",
   "execution_count": null,
   "id": "27a37f9f-78c8-41e8-b4c8-6b037fea3a62",
   "metadata": {},
   "outputs": [],
   "source": [
    "players_vfold <- vfold_cv(players_testing, v = 5, strata = subscribe)\n",
    "\n",
    "players_resample_fit <- workflow() |>\n",
    "      add_recipe(players_recipe) |>\n",
    "      add_model(players_spec) |>\n",
    "      fit_resamples(resamples = players_vfold) |>\n",
    "    collect_metrics()\n",
    "\n",
    "players_resample_fit"
   ]
  },
  {
   "cell_type": "markdown",
   "id": "c3ca46f9-4d08-44aa-b7f6-8e29e7b957b9",
   "metadata": {},
   "source": [
    "The code above performs the following:\n",
    "\n",
    "Prediction: It makes predictions on the dataset using KNN classification when K = 3.\n",
    "Evaluation: It evaluates the model's performance using accuracy metrics and a confusion matrix.\n",
    "Cross-Validation: It performs cross-validation to assess the model's performance on different subsets of the data."
   ]
  },
  {
   "cell_type": "markdown",
   "id": "d4dd6314-621c-4f0a-9963-49554d979c67",
   "metadata": {},
   "source": [
    "**Because the accuracy of the prediction is so low, we must tune the model to find the bext K value possible**"
   ]
  },
  {
   "cell_type": "code",
   "execution_count": null,
   "id": "63cf5318-a8e7-4fa9-bf5c-dfae2ccd825f",
   "metadata": {},
   "outputs": [],
   "source": [
    "gridvals <- tibble(neighbors = seq(from = 1, to = 10, by = 1))\n",
    "\n",
    "players_tune <- nearest_neighbor(weight_func = \"rectangular\", neighbors = tune()) |>\n",
    "            set_engine(\"kknn\") |>\n",
    "            set_mode(\"classification\")\n",
    "\n",
    "players_results <- workflow() |>\n",
    "      add_recipe(players_recipe) |>\n",
    "      add_model(players_tune) |>\n",
    "      tune_grid(resamples = players_vfold, grid = gridvals) |>\n",
    "      collect_metrics()\n",
    "\n",
    "players_results"
   ]
  },
  {
   "cell_type": "code",
   "execution_count": null,
   "id": "24ef1f8f-b760-47a8-9a20-875a59a400cf",
   "metadata": {},
   "outputs": [],
   "source": [
    "accuracies <- players_results |> \n",
    "      filter(.metric == \"accuracy\")\n",
    "\n",
    "accuracy_versus_k <- ggplot(accuracies, aes(x = neighbors, y = mean))+\n",
    "      geom_point() +\n",
    "      geom_line() +\n",
    "      labs(x = \"Neighbors\", y = \"Accuracy Estimate\") +\n",
    "      scale_x_continuous(breaks = seq(0, 14, by = 1)) +  # adjusting the x-axis\n",
    "      scale_y_continuous(limits = c(0.4, 1.0)) # adjusting the y-axis\n",
    "\n",
    "accuracy_versus_k\n"
   ]
  },
  {
   "cell_type": "markdown",
   "id": "f465d02a-829a-459a-836f-fcc823f764d7",
   "metadata": {},
   "source": [
    "From the plot above, we can see that $K = 1$ provides the highest accuracy. Larger $K$ values result in a reduced accuracy estimate."
   ]
  },
  {
   "cell_type": "code",
   "execution_count": null,
   "id": "afacc86a-afbc-4e60-a66a-75937313e59d",
   "metadata": {},
   "outputs": [],
   "source": [
    "best_k <- accuracies |>\n",
    "        arrange(desc(mean)) |>\n",
    "        head(1) |>\n",
    "        pull(neighbors)\n",
    "best_k\n",
    "\n",
    "knn_spec <- nearest_neighbor(weight_func = \"rectangular\", neighbors = best_k) |>\n",
    "    set_engine(\"kknn\") |>\n",
    "    set_mode(\"classification\")\n",
    "\n",
    "knn_fit <- workflow() |>\n",
    "  add_recipe(players_recipe) |>\n",
    "  add_model(knn_spec) |>\n",
    "  fit(data = players_testing)\n",
    "\n",
    "players_test_predictions <- predict(knn_fit, players_testing) |>\n",
    "bind_cols(players_testing)\n",
    "\n",
    "players_test_predictions |>\n",
    "  metrics(truth = subscribe, estimate = .pred_class) |>\n",
    "  filter(.metric == \"accuracy\")"
   ]
  },
  {
   "cell_type": "markdown",
   "id": "34e38f19-5c7c-4806-acd9-7a93772336fc",
   "metadata": {},
   "source": [
    "The code above uses the most optimal $K$ value for our dataset and fits our model to the testing set to determine its accuracy. The accuracy reported was 93%. "
   ]
  },
  {
   "cell_type": "code",
   "execution_count": null,
   "id": "cda431f5-436e-4c94-93d4-41f28a8fc8bb",
   "metadata": {},
   "outputs": [],
   "source": [
    "new_player <- tibble(played_hours = 8, Age = 15)\n",
    "new_player_prediction <- predict(knn_fit, new_player) \n",
    "new_player_prediction"
   ]
  },
  {
   "cell_type": "markdown",
   "id": "39ae880a-6b65-435f-a69e-b132c6633c18",
   "metadata": {},
   "source": [
    "Then, we create a new observation, 'new_player', with randomly chosen played hours and age, and use our model to predict it's subscription status. We predicted that our new observation, who is 15 years old with 8 played hours, is subcribed to the newsletter. There is reason to believe that this prediction is true as the models accuracy is reported to be 93%, which is pretty high. "
   ]
  },
  {
   "cell_type": "markdown",
   "id": "d435fc89-6f40-4ec9-83e2-5217a0b7140d",
   "metadata": {},
   "source": [
    "Say in discussion: When compared with our exploratory datatset, our prediction makes sense as most players around 15 years old and with around 8 hours of playing time were subcribed, so it is natural for our fictional player to be subscribed. "
   ]
  },
  {
   "cell_type": "markdown",
   "id": "0a6c841d-97c0-4786-8238-751715b8805d",
   "metadata": {},
   "source": [
    "# **Discussion**"
   ]
  },
  {
   "cell_type": "markdown",
   "id": "3feb4072-d248-4a17-b39e-0e3a1a8d26b0",
   "metadata": {},
   "source": [
    "Discuss what impact could such findings could have?\n",
    "\n",
    "There are many impacts the findings of this model can have. For example, game studios could use it to automatically show newsletter sign-up prompts only to players who are unlikely to subscribe, reducing annoyance for already-subscribed users. Marketing teams could send email campaigns to older players who play less often, encouraging them to re-engage with the game through exclusive content or beginner-friendly updates.\n"
   ]
  }
 ],
 "metadata": {
  "kernelspec": {
   "display_name": "R",
   "language": "R",
   "name": "ir"
  },
  "language_info": {
   "codemirror_mode": "r",
   "file_extension": ".r",
   "mimetype": "text/x-r-source",
   "name": "R",
   "pygments_lexer": "r",
   "version": "4.3.3"
  }
 },
 "nbformat": 4,
 "nbformat_minor": 5
}
