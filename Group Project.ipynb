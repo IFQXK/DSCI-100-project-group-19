{
 "cells": [
  {
   "cell_type": "markdown",
   "id": "ba115661-aa25-4cfe-947a-52a9a008de19",
   "metadata": {},
   "source": [
    "# **Group 19 Project**"
   ]
  },
  {
   "cell_type": "code",
   "execution_count": null,
   "id": "3d3a236e-cc1d-464b-b2e7-b2388004e97d",
   "metadata": {},
   "outputs": [],
   "source": []
  }
 ],
 "metadata": {
  "kernelspec": {
   "display_name": "R",
   "language": "R",
   "name": "ir"
  },
  "language_info": {
   "codemirror_mode": "r",
   "file_extension": ".r",
   "mimetype": "text/x-r-source",
   "name": "R",
   "pygments_lexer": "r",
   "version": "4.3.3"
  }
 },
 "nbformat": 4,
 "nbformat_minor": 5
}
