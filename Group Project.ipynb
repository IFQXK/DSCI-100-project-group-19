{
 "cells": [
  {
   "cell_type": "markdown",
   "id": "ba115661-aa25-4cfe-947a-52a9a008de19",
   "metadata": {},
   "source": [
    "# **Group 19 Project**"
   ]
  },
  {
   "cell_type": "markdown",
   "id": "19c60c03-c6bd-46a4-94a9-ce40272bd3e3",
   "metadata": {},
   "source": [
    "# Introduction"
   ]
  },
  {
   "cell_type": "code",
   "execution_count": null,
   "id": "8ad10d18-2074-42f6-89d7-a915c5cc9422",
   "metadata": {},
   "outputs": [],
   "source": [
    "# "
   ]
  }
 ],
 "metadata": {
  "kernelspec": {
   "display_name": "R",
   "language": "R",
   "name": "ir"
  },
  "language_info": {
   "codemirror_mode": "r",
   "file_extension": ".r",
   "mimetype": "text/x-r-source",
   "name": "R",
   "pygments_lexer": "r",
   "version": "4.3.3"
  }
 },
 "nbformat": 4,
 "nbformat_minor": 5
}
