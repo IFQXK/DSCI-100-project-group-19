{
 "cells": [
  {
   "cell_type": "markdown",
   "id": "df7da5f8-3d9b-4627-9ebb-a16f2c7072c8",
   "metadata": {},
   "source": [
    "Is this working now?"
   ]
  }
 ],
 "metadata": {
  "kernelspec": {
   "display_name": "R",
   "language": "R",
   "name": "ir"
  },
  "language_info": {
   "codemirror_mode": "r",
   "file_extension": ".r",
   "mimetype": "text/x-r-source",
   "name": "R",
   "pygments_lexer": "r",
   "version": "4.3.3"
  }
 },
 "nbformat": 4,
 "nbformat_minor": 5
}
